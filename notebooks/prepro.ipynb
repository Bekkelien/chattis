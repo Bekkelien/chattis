{
 "cells": [
  {
   "cell_type": "code",
   "execution_count": 262,
   "metadata": {},
   "outputs": [
    {
     "data": {
      "text/plain": [
       "0    TikTok considers London and other locations fo...\n",
       "1    Disney cuts ad spending on Facebook amid growi...\n",
       "Name: Headlines, dtype: object"
      ]
     },
     "execution_count": 262,
     "metadata": {},
     "output_type": "execute_result"
    }
   ],
   "source": [
    "import pandas as pd\n",
    "df_news = pd.read_csv(\"../data/reuters_headlines.csv\")\n",
    "df_news['Headlines'][0:2]"
   ]
  },
  {
   "cell_type": "code",
   "execution_count": 263,
   "metadata": {},
   "outputs": [
    {
     "data": {
      "text/plain": [
       "0    Printing, in the only sense with which we are ...\n",
       "1                       in being comparatively modern.\n",
       "Name: 1, dtype: object"
      ]
     },
     "execution_count": 263,
     "metadata": {},
     "output_type": "execute_result"
    }
   ],
   "source": [
    "df_lj = pd.read_csv(\"../data/lj_speech.csv\", sep='|', header=None)\n",
    "df_lj[1][0:2]"
   ]
  },
  {
   "cell_type": "code",
   "execution_count": 264,
   "metadata": {},
   "outputs": [],
   "source": [
    "def df_to_text(df, colum):\n",
    "    return ' @ '.join(df[colum].tolist())"
   ]
  },
  {
   "cell_type": "code",
   "execution_count": 265,
   "metadata": {},
   "outputs": [
    {
     "data": {
      "text/plain": [
       "'Jul 18 2020 @ Jul 18 2020 @ Jul 18 2020 @ Jul 18 2020 @ Jul 17 2020 @ Jul 17 2020 @ Jul 17 2020 @ Jul 17 2020 @ Jul 17 2020 @ Jul 17 2020 @ Jul 17 2020 @ Jul 17 2020 @ Jul 17 2020 @ Jul 17 2020 @ Jul 1'"
      ]
     },
     "execution_count": 265,
     "metadata": {},
     "output_type": "execute_result"
    }
   ],
   "source": [
    "# NOTE: Testing with using @ as a separator\n",
    "\n",
    "#text = df_to_text(df_news, 'Headlines')\n",
    "text = df_to_text(df_news, 'Time')\n",
    "#text = df_to_text(df_news, 'Description')\n",
    "#text = df_to_text(df_lj, 1)\n",
    "\n",
    "text[0:201]"
   ]
  },
  {
   "cell_type": "code",
   "execution_count": 266,
   "metadata": {},
   "outputs": [
    {
     "data": {
      "text/plain": [
       "(34, ' 0123456789@ADFJMNOSabceglnoprtuvy')"
      ]
     },
     "execution_count": 266,
     "metadata": {},
     "output_type": "execute_result"
    }
   ],
   "source": [
    "# Compute chars\n",
    "chars_list = sorted(list(set(text)))\n",
    "chars = ''.join(chars_list)\n",
    "len(chars), chars"
   ]
  },
  {
   "cell_type": "code",
   "execution_count": 267,
   "metadata": {},
   "outputs": [],
   "source": [
    "# Used for testing purposes\n",
    "\n",
    "#chars_idx = list(range(len(chars)))\n",
    "#chars_map = list(zip(chars_idx, chars))\n",
    "#chars_map[0:5],chars_idx[0:5]\n",
    "#test = list(map(str, chars_idx))\n"
   ]
  },
  {
   "cell_type": "code",
   "execution_count": 268,
   "metadata": {},
   "outputs": [
    {
     "name": "stdout",
     "output_type": "stream",
     "text": [
      "Jul 18 2020 @ Jul 18 2020 @ Ju\n",
      "[15, 31, 25, 0, 2, 9, 0, 3, 1, 3, 1, 0, 11, 0, 15, 31, 25, 0, 2, 9, 0, 3, 1, 3, 1, 0, 11, 0, 15, 31]\n",
      "Jul 18 2020 @ Jul 18 2020 @ Ju\n"
     ]
    }
   ],
   "source": [
    "# Encode and decode the given text\n",
    "def encode(text):\n",
    "    text_encode = []\n",
    "    for i in text:\n",
    "        text_encode.append(chars.find(i))\n",
    "    return text_encode\n",
    "\n",
    "def decode(text, chars_list):\n",
    "    text_decode = []\n",
    "    for i in text:\n",
    "        text_decode.append(chars_list[i])\n",
    "    return ''.join(text_decode)\n",
    "\n",
    "text_encode = encode(text[0:30])\n",
    "text_decode = decode(text_encode, chars_list)\n",
    "\n",
    "print(text[0:30])\n",
    "print(text_encode)\n",
    "print(text_decode)"
   ]
  },
  {
   "cell_type": "code",
   "execution_count": 269,
   "metadata": {},
   "outputs": [
    {
     "name": "stdout",
     "output_type": "stream",
     "text": [
      "torch.Size([458777])\n",
      "tensor([15, 31, 25,  0,  2,  9,  0,  3,  1,  3,  1,  0, 11,  0, 15, 31, 25,  0,\n",
      "         2,  9,  0,  3,  1,  3,  1,  0, 11,  0, 15, 31])\n"
     ]
    }
   ],
   "source": [
    "# Load to torch\n",
    "import torch \n",
    "x = torch.tensor(encode(text), dtype=torch.long)\n",
    "print(x.shape)\n",
    "print(x[0:30])"
   ]
  },
  {
   "cell_type": "code",
   "execution_count": 270,
   "metadata": {},
   "outputs": [
    {
     "data": {
      "text/plain": [
       "(412899, 45878)"
      ]
     },
     "execution_count": 270,
     "metadata": {},
     "output_type": "execute_result"
    }
   ],
   "source": [
    "# Split train and validation data\n",
    "split = int(len(x)*0.9)\n",
    "x_train = x[:split]\n",
    "x_valid = x[split:]\n",
    "len(x_train), len(x_valid)"
   ]
  },
  {
   "cell_type": "code",
   "execution_count": 271,
   "metadata": {},
   "outputs": [
    {
     "data": {
      "text/plain": [
       "(tensor([[ 3,  1,  3,  1,  0, 11,  0, 15, 31, 25],\n",
       "         [ 2,  3,  0,  3,  1,  2, 10,  0, 11,  0],\n",
       "         [11,  0, 16, 20, 29,  0,  2,  1,  0,  3],\n",
       "         [ 0, 18, 22, 30,  0,  3,  9,  0,  3,  1],\n",
       "         [ 3,  1,  2,  9,  0, 11,  0, 17, 27, 32]]),\n",
       " tensor([[ 1,  3,  1,  0, 11,  0, 15, 31, 25,  0],\n",
       "         [ 3,  0,  3,  1,  2, 10,  0, 11,  0, 15],\n",
       "         [ 0, 16, 20, 29,  0,  2,  1,  0,  3,  1],\n",
       "         [18, 22, 30,  0,  3,  9,  0,  3,  1,  2],\n",
       "         [ 1,  2,  9,  0, 11,  0, 17, 27, 32,  0]]))"
      ]
     },
     "execution_count": 271,
     "metadata": {},
     "output_type": "execute_result"
    }
   ],
   "source": [
    "batch_size = 5\n",
    "block_size = 10\n",
    "\n",
    "# BUG: RuntimeError: stack expects each tensor to be equal size, but got [10] at entry 0 and [3] at entry 1\n",
    "# len(x)-block_size HAX to avoid this bug, look into this a but more\n",
    "\n",
    "def load_batch(x):\n",
    "    index_rand = torch.randint(0,len(x)-block_size,(batch_size,))\n",
    "    x_batch = torch.stack([x[i:i+block_size] for i in index_rand])\n",
    "    y_batch  = torch.stack([x[i+1:i+block_size+1] for i in index_rand])\n",
    "    return x_batch, y_batch \n",
    "\n",
    "\n",
    "x_batch, y_batch = load_batch(x_train)\n",
    "x_batch, y_batch"
   ]
  },
  {
   "cell_type": "code",
   "execution_count": 272,
   "metadata": {},
   "outputs": [
    {
     "name": "stdout",
     "output_type": "stream",
     "text": [
      "tensor(3.9338, grad_fn=<NllLossBackward0>)\n",
      "torch.Size([50, 34])\n",
      "@oFbMlM@4Fc6n9D rl55aoSNvr782O8NON61MleF5rON0 7MlA6nu0uMl@FONp4o946n75OF1M17Oe1lll@MO8026SoOt49l5uve2cg c6SN00ce1ve4l5too\n"
     ]
    }
   ],
   "source": [
    "import torch.nn as nn\n",
    "from torch.nn import functional as F\n",
    "\n",
    "# PyTorch BigramLanguageModel model:\n",
    "class BigramLanguageModel(nn.Module):\n",
    "    def __init__(self,vocab_size) -> None:\n",
    "        super().__init__()\n",
    "        self.token_embedding_table = nn.Embedding(vocab_size,vocab_size)   \n",
    "\n",
    "    # idx  is input data\n",
    "    def forward(self, idx, targets=None):\n",
    "\n",
    "        # TODO: Read about logits and embedding table\n",
    "        logits = self.token_embedding_table(idx) # (B,T,C) - (batch,size,chars) \n",
    "        \n",
    "        loss = None\n",
    "        if targets is not None:\n",
    "            # (B,T,C) -> (B*C,T) Conversion to accommodating of torch specs\n",
    "            logits = logits.reshape(-1,logits.shape[2])\n",
    "            targets = targets.reshape(-1)\n",
    "            loss = F.cross_entropy(logits, targets)\n",
    "\n",
    "        return logits, loss   \n",
    "\n",
    "    def generate(self, idx, limit_new_tokens):\n",
    "        for _ in range(limit_new_tokens):\n",
    "            logits, loss = self(idx) # Fetch predictions\n",
    "            logits = logits[:,-1,:] # Last step\n",
    "            probs = F.softmax(logits, dim=1)\n",
    "            idx_next = torch.multinomial(probs, num_samples=1)\n",
    "            idx = torch.cat((idx,idx_next), dim=1)\n",
    "        \n",
    "        return idx\n",
    "\n",
    "\n",
    "model = BigramLanguageModel(len(chars))\n",
    "logits, loss = model(x_batch, y_batch)\n",
    "\n",
    "# For now @ is \"newline char\"\n",
    "idx = torch.tensor((encode('@'),), dtype=torch.long)\n",
    "\n",
    "print(loss)\n",
    "print(logits.shape)\n",
    "print(decode(model.generate(idx, limit_new_tokens=120)[0].tolist(), chars_list))\n"
   ]
  },
  {
   "cell_type": "code",
   "execution_count": 273,
   "metadata": {},
   "outputs": [],
   "source": [
    "# Optimizer \n",
    "optimizer = torch.optim.AdamW(model.parameters(), lr = 0.001)"
   ]
  },
  {
   "cell_type": "code",
   "execution_count": 274,
   "metadata": {},
   "outputs": [
    {
     "name": "stdout",
     "output_type": "stream",
     "text": [
      "1.1247494220733643\n"
     ]
    }
   ],
   "source": [
    "\n",
    "for _ in range(10000):\n",
    "    # Load in one batch\n",
    "    x_batch, y_batch = load_batch(x)\n",
    "\n",
    "    # Compute/evaluate the loss\n",
    "    logits, loss = model(x_batch, y_batch)\n",
    "    optimizer.zero_grad(set_to_none=True)\n",
    "    loss.backward()\n",
    "    optimizer.step()\n",
    "\n",
    "print(loss.item())"
   ]
  },
  {
   "cell_type": "code",
   "execution_count": 275,
   "metadata": {},
   "outputs": [
    {
     "name": "stdout",
     "output_type": "stream",
     "text": [
      "@ 18 Oc Apr 018 28 018 2020 Jun 19 2019 2019 202020 Seb @ @ 24 20 Jun @ 07 1 18 28 @ Apr Sect 018 19 20 019 @ 3 May 19 20\n",
      "@ 2015 @ 19 2019 @ 201 Seb 2017 201 Aug @ 20 @ 2019 27 Aun Oct Ju6Seb 13019 Jug 2018 @ Sepr Dect 2019 Ap 16 @ @ Oc @ 208 \n",
      "@ 20 29n @ 2011 @ @ @ Jun 2014 @ 120120202 @ @ 202018 Mar 020 @ Aun 202020 20 @ @ @ 206 109 2n Jul @ @ 2019 02029 @ 2019 \n",
      "@ @ Nov @ @ @ MarAun @ 24 Oc 20 20 DeJun Jay 207 20 Seb @ @ 202019 Jull Mar 3018 @ Jun 20 2013 18 20 @ 1 @ Nov 201 @ 2018\n",
      "@ 2018 019 20120 2012014 Jar 2 19 2018 @ @ 20 2019 20 Jun May 19 @ Jan Jug Ap 209 2020206 @ 0 206 Jay 2019 1 20 @ 18 Ap J\n"
     ]
    }
   ],
   "source": [
    "print(decode(model.generate(idx, limit_new_tokens=120)[0].tolist(), chars_list))\n",
    "print(decode(model.generate(idx, limit_new_tokens=120)[0].tolist(), chars_list))\n",
    "print(decode(model.generate(idx, limit_new_tokens=120)[0].tolist(), chars_list))\n",
    "print(decode(model.generate(idx, limit_new_tokens=120)[0].tolist(), chars_list))\n",
    "print(decode(model.generate(idx, limit_new_tokens=120)[0].tolist(), chars_list))"
   ]
  }
 ],
 "metadata": {
  "kernelspec": {
   "display_name": "venv",
   "language": "python",
   "name": "python3"
  },
  "language_info": {
   "codemirror_mode": {
    "name": "ipython",
    "version": 3
   },
   "file_extension": ".py",
   "mimetype": "text/x-python",
   "name": "python",
   "nbconvert_exporter": "python",
   "pygments_lexer": "ipython3",
   "version": "3.10.7 (tags/v3.10.7:6cc6b13, Sep  5 2022, 14:08:36) [MSC v.1933 64 bit (AMD64)]"
  },
  "orig_nbformat": 4,
  "vscode": {
   "interpreter": {
    "hash": "e3d10e4f3209e9130e369f5e6825c0759d54c4099f3ec99478d2f8b1e24ec40f"
   }
  }
 },
 "nbformat": 4,
 "nbformat_minor": 2
}
