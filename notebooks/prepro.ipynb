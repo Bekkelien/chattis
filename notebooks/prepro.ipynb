{
 "cells": [
  {
   "cell_type": "code",
   "execution_count": 31,
   "metadata": {},
   "outputs": [
    {
     "data": {
      "text/plain": [
       "0    TikTok considers London and other locations fo...\n",
       "1    Disney cuts ad spending on Facebook amid growi...\n",
       "Name: Headlines, dtype: object"
      ]
     },
     "execution_count": 31,
     "metadata": {},
     "output_type": "execute_result"
    }
   ],
   "source": [
    "import pandas as pd\n",
    "df = pd.read_csv(\"../data/reuters_headlines.csv\")\n",
    "df['Headlines'][0:2]"
   ]
  },
  {
   "cell_type": "code",
   "execution_count": 32,
   "metadata": {},
   "outputs": [
    {
     "data": {
      "text/plain": [
       "'TikTok considers London and other locations for headquarters <> Disney cuts ad spending on Facebook amid growing boycott: WSJ <> Trail of missing Wirecard executive leads to Belarus, Der Spiegel report'"
      ]
     },
     "execution_count": 32,
     "metadata": {},
     "output_type": "execute_result"
    }
   ],
   "source": [
    "# Testing with using <> as a separator, NOTE: this is not really a good idea!\n",
    "text = ' <> '.join(df['Headlines'].tolist())\n",
    "text[0:201]"
   ]
  },
  {
   "cell_type": "code",
   "execution_count": 33,
   "metadata": {},
   "outputs": [
    {
     "data": {
      "text/plain": [
       "(98,\n",
       " ' !\"#$%&\\'()*+,-./0123456789:;<>?ABCDEFGHIJKLMNOPQRSTUVWXYZ_abcdefghijklmnopqrstuvwxyz\\xa0£´çéó\\u200b\\u200d–‘’“”€')"
      ]
     },
     "execution_count": 33,
     "metadata": {},
     "output_type": "execute_result"
    }
   ],
   "source": [
    "# Compute chars\n",
    "chars_list = sorted(list(set(text)))\n",
    "chars = ''.join(chars_list)\n",
    "len(chars), chars"
   ]
  },
  {
   "cell_type": "code",
   "execution_count": 34,
   "metadata": {},
   "outputs": [],
   "source": [
    "# Used for testing purposes\n",
    "\n",
    "#chars_idx = list(range(len(chars)))\n",
    "#chars_map = list(zip(chars_idx, chars))\n",
    "#chars_map[0:5],chars_idx[0:5]\n",
    "#test = list(map(str, chars_idx))\n"
   ]
  },
  {
   "cell_type": "code",
   "execution_count": 35,
   "metadata": {},
   "outputs": [
    {
     "name": "stdout",
     "output_type": "stream",
     "text": [
      "TikTok considers London and ot\n",
      "[50, 66, 68, 50, 72, 68, 0, 60, 72, 71, 76, 66, 61, 62, 75, 76, 0, 42, 72, 71, 61, 72, 71, 0, 58, 71, 61, 0, 72, 77]\n",
      "TikTok considers London and ot\n"
     ]
    }
   ],
   "source": [
    "# Encode and decode the given text\n",
    "def encode(text):\n",
    "    text_encode = []\n",
    "    for i in text:\n",
    "        text_encode.append(chars.find(i))\n",
    "    return text_encode\n",
    "\n",
    "def decode(text, chars_list):\n",
    "    text_decode = []\n",
    "    for i in text:\n",
    "        text_decode.append(chars_list[i])\n",
    "    return ''.join(text_decode)\n",
    "\n",
    "text_encode = encode(text[0:30])\n",
    "text_decode = decode(text_encode, chars_list)\n",
    "\n",
    "print(text[0:30])\n",
    "print(text_encode)\n",
    "print(text_decode)"
   ]
  },
  {
   "cell_type": "code",
   "execution_count": 36,
   "metadata": {},
   "outputs": [
    {
     "name": "stdout",
     "output_type": "stream",
     "text": [
      "torch.Size([2270648])\n",
      "tensor([50, 66, 68, 50, 72, 68,  0, 60, 72, 71, 76, 66, 61, 62, 75, 76,  0, 42,\n",
      "        72, 71, 61, 72, 71,  0, 58, 71, 61,  0, 72, 77])\n"
     ]
    }
   ],
   "source": [
    "# Load to torch\n",
    "import torch \n",
    "x = torch.tensor(encode(text), dtype=torch.long)\n",
    "print(x.shape)\n",
    "print(x[0:30])"
   ]
  },
  {
   "cell_type": "code",
   "execution_count": 37,
   "metadata": {},
   "outputs": [
    {
     "data": {
      "text/plain": [
       "(2043583, 227065)"
      ]
     },
     "execution_count": 37,
     "metadata": {},
     "output_type": "execute_result"
    }
   ],
   "source": [
    "# Split train and validation data\n",
    "split = int(len(x)*0.9)\n",
    "x_train = x[:split]\n",
    "x_valid = x[split:]\n",
    "len(x_train), len(x_valid)"
   ]
  },
  {
   "cell_type": "code",
   "execution_count": 38,
   "metadata": {},
   "outputs": [
    {
     "data": {
      "text/plain": [
       "(tensor([[ 0, 28, 29,  0, 52, 72, 69, 68, 76, 80],\n",
       "         [82,  0, 71, 62, 81, 77,  0, 82, 62, 58],\n",
       "         [ 0, 80, 66, 73, 62,  0,  4, 19, 16,  0],\n",
       "         [76, 78, 70, 62,  0, 13,  0, 76, 72, 78],\n",
       "         [35, 78, 75, 72, 63, 66, 64, 65, 77, 62]]),\n",
       " tensor([[28, 29,  0, 52, 72, 69, 68, 76, 80, 58],\n",
       "         [ 0, 71, 62, 81, 77,  0, 82, 62, 58, 75],\n",
       "         [80, 66, 73, 62,  0,  4, 19, 16,  0, 59],\n",
       "         [78, 70, 62,  0, 13,  0, 76, 72, 78, 75],\n",
       "         [78, 75, 72, 63, 66, 64, 65, 77, 62, 75]]))"
      ]
     },
     "execution_count": 38,
     "metadata": {},
     "output_type": "execute_result"
    }
   ],
   "source": [
    "batch_size = 5\n",
    "block_size = 10\n",
    "\n",
    "\n",
    "def load_batch(x):\n",
    "    index_rand = torch.randint(0,len(x),(batch_size,))\n",
    "    x_batch = torch.stack([x[i:i+block_size] for i in index_rand])\n",
    "    y_batch  = torch.stack([x[i+1:i+block_size+1] for i in index_rand])\n",
    "    return x_batch, y_batch \n",
    "\n",
    "\n",
    "x_batch, y_batch = load_batch(x_train)\n",
    "x_batch, y_batch"
   ]
  },
  {
   "cell_type": "code",
   "execution_count": 52,
   "metadata": {},
   "outputs": [
    {
     "data": {
      "text/plain": [
       "(tensor([[ 1.1564,  0.7610,  0.9967,  ...,  0.2704, -1.5716, -1.1562],\n",
       "         [ 0.0680, -0.8400, -0.3601,  ...,  1.3283,  2.1320,  0.4959],\n",
       "         [-0.5556,  0.1151,  0.1085,  ..., -1.6258, -0.7202, -0.7451],\n",
       "         ...,\n",
       "         [ 1.7350, -1.2608, -0.3377,  ...,  0.4802,  2.5273, -0.7180],\n",
       "         [ 0.1624,  1.1256,  0.8528,  ...,  0.4465,  0.3264, -0.7047],\n",
       "         [ 0.6640, -0.5125, -0.1376,  ...,  0.6319,  0.5815, -0.0959]],\n",
       "        grad_fn=<ReshapeAliasBackward0>),\n",
       " tensor(5.1286, grad_fn=<NllLossBackward0>))"
      ]
     },
     "execution_count": 52,
     "metadata": {},
     "output_type": "execute_result"
    }
   ],
   "source": [
    "import torch.nn as nn\n",
    "from torch.nn import functional as F\n",
    "\n",
    "# PyTorch BigramLanguageModel model:\n",
    "class BigramLanguageModel(nn.Module):\n",
    "    def __init__(self,vocab_size) -> None:\n",
    "        super().__init__()\n",
    "        self.token_embedding_table = nn.Embedding(vocab_size,vocab_size)   \n",
    "\n",
    "    def forward(self, input, targets):\n",
    "\n",
    "        # TODO: Read about logits and embedding table\n",
    "        logits = self.token_embedding_table(input) # (B,T,C) - (batch,size,chars) \n",
    "        \n",
    "        # (B,T,C) -> (B*C,T) Conversion to accommodating of torch specs\n",
    "        logits = logits.reshape(-1,logits.shape[2])\n",
    "        targets = targets.reshape(-1)\n",
    "\n",
    "        loss = F.cross_entropy(logits, targets)\n",
    "\n",
    "        return logits, loss   \n",
    "\n",
    "model = BigramLanguageModel(len(chars))\n",
    "logits, loss = model(x_batch, y_batch)\n",
    "#len(chars)\n",
    "logits, loss"
   ]
  }
 ],
 "metadata": {
  "kernelspec": {
   "display_name": "venv",
   "language": "python",
   "name": "python3"
  },
  "language_info": {
   "codemirror_mode": {
    "name": "ipython",
    "version": 3
   },
   "file_extension": ".py",
   "mimetype": "text/x-python",
   "name": "python",
   "nbconvert_exporter": "python",
   "pygments_lexer": "ipython3",
   "version": "3.10.7 (tags/v3.10.7:6cc6b13, Sep  5 2022, 14:08:36) [MSC v.1933 64 bit (AMD64)]"
  },
  "orig_nbformat": 4,
  "vscode": {
   "interpreter": {
    "hash": "e3d10e4f3209e9130e369f5e6825c0759d54c4099f3ec99478d2f8b1e24ec40f"
   }
  }
 },
 "nbformat": 4,
 "nbformat_minor": 2
}
