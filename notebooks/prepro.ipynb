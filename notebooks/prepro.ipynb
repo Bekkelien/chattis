{
 "cells": [
  {
   "cell_type": "code",
   "execution_count": 23,
   "metadata": {},
   "outputs": [],
   "source": [
    "import pandas as pd\n",
    "from pathlib import Path"
   ]
  },
  {
   "cell_type": "code",
   "execution_count": 24,
   "metadata": {},
   "outputs": [
    {
     "data": {
      "text/plain": [
       "0        TikTok considers London and other locations fo...\n",
       "1        Disney cuts ad spending on Facebook amid growi...\n",
       "2        Trail of missing Wirecard executive leads to B...\n",
       "3        Twitter says attackers downloaded data from up...\n",
       "4        U.S. Republicans seek liability protections as...\n",
       "                               ...                        \n",
       "32765    Malaysia says never hired British data firm at...\n",
       "32766    Prosecutors search Volkswagen headquarters in ...\n",
       "32767     McDonald's sets greenhouse gas reduction targets\n",
       "32768    Pratt & Whitney to deliver spare A320neo engin...\n",
       "32769    UK will always consider ways to improve data l...\n",
       "Name: Headlines, Length: 32770, dtype: object"
      ]
     },
     "execution_count": 24,
     "metadata": {},
     "output_type": "execute_result"
    }
   ],
   "source": [
    "df = pd.read_csv(\"../data/reuters_headlines.csv\")\n",
    "df['Headlines']"
   ]
  },
  {
   "cell_type": "code",
   "execution_count": 27,
   "metadata": {},
   "outputs": [
    {
     "data": {
      "text/plain": [
       "'TikTok considers London and other locations for headquarters <> Disney cuts ad spending on Facebook amid growing boycott: WSJ <> Trail of missing Wirecard executive leads to Belarus, Der Spiegel report'"
      ]
     },
     "execution_count": 27,
     "metadata": {},
     "output_type": "execute_result"
    }
   ],
   "source": [
    "text = ' <> '.join(df['Headlines'].tolist())\n",
    "text[0:201]"
   ]
  }
 ],
 "metadata": {
  "kernelspec": {
   "display_name": "Python 3",
   "language": "python",
   "name": "python3"
  },
  "language_info": {
   "codemirror_mode": {
    "name": "ipython",
    "version": 3
   },
   "file_extension": ".py",
   "mimetype": "text/x-python",
   "name": "python",
   "nbconvert_exporter": "python",
   "pygments_lexer": "ipython3",
   "version": "3.10.7"
  },
  "orig_nbformat": 4,
  "vscode": {
   "interpreter": {
    "hash": "db8c90093d82801b42b9a1dcb1eca99e5c339d59cc42acc496f6d5328df08ad7"
   }
  }
 },
 "nbformat": 4,
 "nbformat_minor": 2
}
