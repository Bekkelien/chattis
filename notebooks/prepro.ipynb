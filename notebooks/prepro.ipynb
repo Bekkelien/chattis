{
 "cells": [
  {
   "cell_type": "code",
   "execution_count": 183,
   "metadata": {},
   "outputs": [],
   "source": [
    "import pandas as pd\n",
    "from pathlib import Path"
   ]
  },
  {
   "cell_type": "code",
   "execution_count": 184,
   "metadata": {},
   "outputs": [
    {
     "data": {
      "text/plain": [
       "0    TikTok considers London and other locations fo...\n",
       "1    Disney cuts ad spending on Facebook amid growi...\n",
       "Name: Headlines, dtype: object"
      ]
     },
     "execution_count": 184,
     "metadata": {},
     "output_type": "execute_result"
    }
   ],
   "source": [
    "df = pd.read_csv(\"../data/reuters_headlines.csv\")\n",
    "df['Headlines'][0:2]"
   ]
  },
  {
   "cell_type": "code",
   "execution_count": 185,
   "metadata": {},
   "outputs": [
    {
     "data": {
      "text/plain": [
       "'TikTok considers London and other locations for headquarters <> Disney cuts ad spending on Facebook amid growing boycott: WSJ <> Trail of missing Wirecard executive leads to Belarus, Der Spiegel report'"
      ]
     },
     "execution_count": 185,
     "metadata": {},
     "output_type": "execute_result"
    }
   ],
   "source": [
    "text = ' <> '.join(df['Headlines'].tolist())\n",
    "text[0:201]"
   ]
  },
  {
   "cell_type": "code",
   "execution_count": 186,
   "metadata": {},
   "outputs": [
    {
     "data": {
      "text/plain": [
       "(98,)"
      ]
     },
     "execution_count": 186,
     "metadata": {},
     "output_type": "execute_result"
    }
   ],
   "source": [
    "chars_list = sorted(list(set(text)))\n",
    "chars = ''.join(chars_list)\n",
    "len(chars), chars"
   ]
  },
  {
   "cell_type": "code",
   "execution_count": 187,
   "metadata": {},
   "outputs": [],
   "source": [
    "#chars_idx = list(range(len(chars)))\n",
    "#chars_map = list(zip(chars_idx, chars))\n",
    "#chars_map[0:5],chars_idx[0:5]\n",
    "#test = list(map(str, chars_idx))\n"
   ]
  },
  {
   "cell_type": "code",
   "execution_count": 194,
   "metadata": {},
   "outputs": [
    {
     "name": "stdout",
     "output_type": "stream",
     "text": [
      "TikTok considers Lon\n",
      "[50, 66, 68, 50, 72, 68, 0, 60, 72, 71, 76, 66, 61, 62, 75, 76, 0, 42, 72, 71]\n",
      "TikTok considers Lon\n"
     ]
    }
   ],
   "source": [
    "def encode(text):\n",
    "    text_encode = []\n",
    "    for i in text:\n",
    "        text_encode.append(chars.find(i))\n",
    "    return text_encode\n",
    "\n",
    "def decode(text, chars_list):\n",
    "    text_decode = []\n",
    "    for i in text:\n",
    "        text_decode.append(chars_list[i])\n",
    "    return ''.join(text_decode)\n",
    "\n",
    "test_text = text[0:20]\n",
    "text_encode = encode(test_text)\n",
    "text_decode = decode(text_encode, chars_list)\n",
    "\n",
    "print(test_text)\n",
    "print(text_encode)\n",
    "print(text_decode)"
   ]
  }
 ],
 "metadata": {
  "kernelspec": {
   "display_name": "Python 3",
   "language": "python",
   "name": "python3"
  },
  "language_info": {
   "codemirror_mode": {
    "name": "ipython",
    "version": 3
   },
   "file_extension": ".py",
   "mimetype": "text/x-python",
   "name": "python",
   "nbconvert_exporter": "python",
   "pygments_lexer": "ipython3",
   "version": "3.10.7"
  },
  "orig_nbformat": 4,
  "vscode": {
   "interpreter": {
    "hash": "db8c90093d82801b42b9a1dcb1eca99e5c339d59cc42acc496f6d5328df08ad7"
   }
  }
 },
 "nbformat": 4,
 "nbformat_minor": 2
}
