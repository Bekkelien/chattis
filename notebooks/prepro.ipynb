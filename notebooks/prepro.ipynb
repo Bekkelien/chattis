{
 "cells": [
  {
   "cell_type": "code",
   "execution_count": 17,
   "metadata": {},
   "outputs": [
    {
     "data": {
      "text/plain": [
       "0    TikTok considers London and other locations fo...\n",
       "1    Disney cuts ad spending on Facebook amid growi...\n",
       "Name: Headlines, dtype: object"
      ]
     },
     "execution_count": 17,
     "metadata": {},
     "output_type": "execute_result"
    }
   ],
   "source": [
    "import pandas as pd\n",
    "df = pd.read_csv(\"../data/reuters_headlines.csv\")\n",
    "df['Headlines'][0:2]"
   ]
  },
  {
   "cell_type": "code",
   "execution_count": 18,
   "metadata": {},
   "outputs": [
    {
     "data": {
      "text/plain": [
       "'TikTok considers London and other locations for headquarters <> Disney cuts ad spending on Facebook amid growing boycott: WSJ <> Trail of missing Wirecard executive leads to Belarus, Der Spiegel report'"
      ]
     },
     "execution_count": 18,
     "metadata": {},
     "output_type": "execute_result"
    }
   ],
   "source": [
    "# Testing with using <> as a separator, NOTE: this is not really a good idea!\n",
    "text = ' <> '.join(df['Headlines'].tolist())\n",
    "text[0:201]"
   ]
  },
  {
   "cell_type": "code",
   "execution_count": 19,
   "metadata": {},
   "outputs": [
    {
     "data": {
      "text/plain": [
       "(98,\n",
       " ' !\"#$%&\\'()*+,-./0123456789:;<>?ABCDEFGHIJKLMNOPQRSTUVWXYZ_abcdefghijklmnopqrstuvwxyz\\xa0£´çéó\\u200b\\u200d–‘’“”€')"
      ]
     },
     "execution_count": 19,
     "metadata": {},
     "output_type": "execute_result"
    }
   ],
   "source": [
    "# Compute chars\n",
    "chars_list = sorted(list(set(text)))\n",
    "chars = ''.join(chars_list)\n",
    "len(chars), chars"
   ]
  },
  {
   "cell_type": "code",
   "execution_count": 20,
   "metadata": {},
   "outputs": [],
   "source": [
    "# Used for testing purposes\n",
    "\n",
    "#chars_idx = list(range(len(chars)))\n",
    "#chars_map = list(zip(chars_idx, chars))\n",
    "#chars_map[0:5],chars_idx[0:5]\n",
    "#test = list(map(str, chars_idx))\n"
   ]
  },
  {
   "cell_type": "code",
   "execution_count": 21,
   "metadata": {},
   "outputs": [
    {
     "name": "stdout",
     "output_type": "stream",
     "text": [
      "TikTok considers London and ot\n",
      "[50, 66, 68, 50, 72, 68, 0, 60, 72, 71, 76, 66, 61, 62, 75, 76, 0, 42, 72, 71, 61, 72, 71, 0, 58, 71, 61, 0, 72, 77]\n",
      "TikTok considers London and ot\n"
     ]
    }
   ],
   "source": [
    "# Encode and decode the given text\n",
    "def encode(text):\n",
    "    text_encode = []\n",
    "    for i in text:\n",
    "        text_encode.append(chars.find(i))\n",
    "    return text_encode\n",
    "\n",
    "def decode(text, chars_list):\n",
    "    text_decode = []\n",
    "    for i in text:\n",
    "        text_decode.append(chars_list[i])\n",
    "    return ''.join(text_decode)\n",
    "\n",
    "text_encode = encode(text[0:30])\n",
    "text_decode = decode(text_encode, chars_list)\n",
    "\n",
    "print(text[0:30])\n",
    "print(text_encode)\n",
    "print(text_decode)"
   ]
  },
  {
   "cell_type": "code",
   "execution_count": 22,
   "metadata": {},
   "outputs": [
    {
     "name": "stdout",
     "output_type": "stream",
     "text": [
      "torch.Size([2270648])\n",
      "tensor([50, 66, 68, 50, 72, 68,  0, 60, 72, 71, 76, 66, 61, 62, 75, 76,  0, 42,\n",
      "        72, 71, 61, 72, 71,  0, 58, 71, 61,  0, 72, 77])\n"
     ]
    }
   ],
   "source": [
    "# Load to torch\n",
    "import torch \n",
    "x = torch.tensor(encode(text), dtype=torch.long)\n",
    "print(x.shape)\n",
    "print(x[0:30])"
   ]
  },
  {
   "cell_type": "code",
   "execution_count": 23,
   "metadata": {},
   "outputs": [
    {
     "data": {
      "text/plain": [
       "(2043583, 227065)"
      ]
     },
     "execution_count": 23,
     "metadata": {},
     "output_type": "execute_result"
    }
   ],
   "source": [
    "# Split train and validation data\n",
    "split = int(len(x)*0.9)\n",
    "x_train = x[:split]\n",
    "x_valid = x[split:]\n",
    "len(x_train), len(x_valid)"
   ]
  },
  {
   "cell_type": "code",
   "execution_count": 26,
   "metadata": {},
   "outputs": [
    {
     "data": {
      "text/plain": [
       "(tensor([[73, 75, 62, 73, 58, 75, 58, 77, 72, 75],\n",
       "         [62, 62, 68, 76,  0, 77, 72,  0, 72, 78],\n",
       "         [76,  0, 61, 75, 66, 79, 66, 71, 64,  0],\n",
       "         [29,  0, 31, 66, 75,  0, 33, 58, 71, 58],\n",
       "         [58, 71, 61, 62, 70, 66, 60, 26,  0, 75],\n",
       "         [76, 12,  0, 76, 65, 58, 75, 62,  0, 59],\n",
       "         [69, 72, 75, 62, 76,  0, 72, 73, 77, 66],\n",
       "         [58, 69, 69, 76,  0, 59, 62, 69, 72, 80],\n",
       "         [65, 66, 77, 62,  0, 38, 72, 78, 76, 62],\n",
       "         [62, 65, 66, 60, 69, 62, 76,  0, 66, 71]]),\n",
       " tensor([[75, 62, 73, 58, 75, 58, 77, 72, 75, 82],\n",
       "         [62, 68, 76,  0, 77, 72,  0, 72, 78, 76],\n",
       "         [ 0, 61, 75, 66, 79, 66, 71, 64,  0, 28],\n",
       "         [ 0, 31, 66, 75,  0, 33, 58, 71, 58, 61],\n",
       "         [71, 61, 62, 70, 66, 60, 26,  0, 75, 62],\n",
       "         [12,  0, 76, 65, 58, 75, 62,  0, 59, 78],\n",
       "         [72, 75, 62, 76,  0, 72, 73, 77, 66, 72],\n",
       "         [69, 69, 76,  0, 59, 62, 69, 72, 80,  0],\n",
       "         [66, 77, 62,  0, 38, 72, 78, 76, 62,  0],\n",
       "         [65, 66, 60, 69, 62, 76,  0, 66, 71,  0]]))"
      ]
     },
     "execution_count": 26,
     "metadata": {},
     "output_type": "execute_result"
    }
   ],
   "source": [
    "batch_size = 5\n",
    "block_size = 10\n",
    "\n",
    "\n",
    "def load_batch(x):\n",
    "    index_rand = torch.randint(0,len(x),(block_size,))\n",
    "    x_batch = torch.stack([x[i:i+block_size] for i in index_rand])\n",
    "    y_batch  = torch.stack([x[i+1:i+block_size+1] for i in index_rand])\n",
    "    return x_batch, y_batch \n",
    "\n",
    "\n",
    "x_batch, y_batch = load_batch(x_train)\n",
    "x_batch, y_batch"
   ]
  }
 ],
 "metadata": {
  "kernelspec": {
   "display_name": "venv",
   "language": "python",
   "name": "python3"
  },
  "language_info": {
   "codemirror_mode": {
    "name": "ipython",
    "version": 3
   },
   "file_extension": ".py",
   "mimetype": "text/x-python",
   "name": "python",
   "nbconvert_exporter": "python",
   "pygments_lexer": "ipython3",
   "version": "3.10.7 (tags/v3.10.7:6cc6b13, Sep  5 2022, 14:08:36) [MSC v.1933 64 bit (AMD64)]"
  },
  "orig_nbformat": 4,
  "vscode": {
   "interpreter": {
    "hash": "e3d10e4f3209e9130e369f5e6825c0759d54c4099f3ec99478d2f8b1e24ec40f"
   }
  }
 },
 "nbformat": 4,
 "nbformat_minor": 2
}
