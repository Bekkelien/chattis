{
 "cells": [
  {
   "cell_type": "code",
   "execution_count": 25,
   "metadata": {},
   "outputs": [],
   "source": [
    "import pandas as pd"
   ]
  },
  {
   "cell_type": "code",
   "execution_count": 26,
   "metadata": {},
   "outputs": [
    {
     "data": {
      "text/plain": [
       "0    TikTok considers London and other locations fo...\n",
       "1    Disney cuts ad spending on Facebook amid growi...\n",
       "Name: Headlines, dtype: object"
      ]
     },
     "execution_count": 26,
     "metadata": {},
     "output_type": "execute_result"
    }
   ],
   "source": [
    "df = pd.read_csv(\"../data/reuters_headlines.csv\")\n",
    "df['Headlines'][0:2]"
   ]
  },
  {
   "cell_type": "code",
   "execution_count": 27,
   "metadata": {},
   "outputs": [
    {
     "data": {
      "text/plain": [
       "'TikTok considers London and other locations for headquarters <> Disney cuts ad spending on Facebook amid growing boycott: WSJ <> Trail of missing Wirecard executive leads to Belarus, Der Spiegel report'"
      ]
     },
     "execution_count": 27,
     "metadata": {},
     "output_type": "execute_result"
    }
   ],
   "source": [
    "text = ' <> '.join(df['Headlines'].tolist())\n",
    "text[0:201]"
   ]
  },
  {
   "cell_type": "code",
   "execution_count": 28,
   "metadata": {},
   "outputs": [
    {
     "data": {
      "text/plain": [
       "(98,\n",
       " ' !\"#$%&\\'()*+,-./0123456789:;<>?ABCDEFGHIJKLMNOPQRSTUVWXYZ_abcdefghijklmnopqrstuvwxyz\\xa0£´çéó\\u200b\\u200d–‘’“”€')"
      ]
     },
     "execution_count": 28,
     "metadata": {},
     "output_type": "execute_result"
    }
   ],
   "source": [
    "chars_list = sorted(list(set(text)))\n",
    "chars = ''.join(chars_list)\n",
    "len(chars), chars"
   ]
  },
  {
   "cell_type": "code",
   "execution_count": 29,
   "metadata": {},
   "outputs": [],
   "source": [
    "#chars_idx = list(range(len(chars)))\n",
    "#chars_map = list(zip(chars_idx, chars))\n",
    "#chars_map[0:5],chars_idx[0:5]\n",
    "#test = list(map(str, chars_idx))\n"
   ]
  },
  {
   "cell_type": "code",
   "execution_count": 30,
   "metadata": {},
   "outputs": [
    {
     "name": "stdout",
     "output_type": "stream",
     "text": [
      "TikTok considers London and ot\n",
      "[50, 66, 68, 50, 72, 68, 0, 60, 72, 71, 76, 66, 61, 62, 75, 76, 0, 42, 72, 71, 61, 72, 71, 0, 58, 71, 61, 0, 72, 77]\n",
      "TikTok considers London and ot\n"
     ]
    }
   ],
   "source": [
    "def encode(text):\n",
    "    text_encode = []\n",
    "    for i in text:\n",
    "        text_encode.append(chars.find(i))\n",
    "    return text_encode\n",
    "\n",
    "def decode(text, chars_list):\n",
    "    text_decode = []\n",
    "    for i in text:\n",
    "        text_decode.append(chars_list[i])\n",
    "    return ''.join(text_decode)\n",
    "\n",
    "text_encode = encode(text[0:30])\n",
    "text_decode = decode(text_encode, chars_list)\n",
    "\n",
    "print(text[0:30])\n",
    "print(text_encode)\n",
    "print(text_decode)"
   ]
  },
  {
   "cell_type": "code",
   "execution_count": 31,
   "metadata": {},
   "outputs": [
    {
     "name": "stdout",
     "output_type": "stream",
     "text": [
      "torch.Size([2270648])\n",
      "tensor([50, 66, 68, 50, 72, 68,  0, 60, 72, 71, 76, 66, 61, 62, 75, 76,  0, 42,\n",
      "        72, 71, 61, 72, 71,  0, 58, 71, 61,  0, 72, 77])\n"
     ]
    }
   ],
   "source": [
    "import torch \n",
    "x = torch.tensor(encode(text), dtype=torch.long)\n",
    "print(x.shape)\n",
    "print(x[0:30])"
   ]
  },
  {
   "cell_type": "code",
   "execution_count": 34,
   "metadata": {},
   "outputs": [
    {
     "data": {
      "text/plain": [
       "(1816518, 454130)"
      ]
     },
     "execution_count": 34,
     "metadata": {},
     "output_type": "execute_result"
    }
   ],
   "source": [
    "split = int(len(x)*0.8)\n",
    "x_train = x[:split]\n",
    "x_valid = x[split:]\n",
    "len(x_train), len(x_valid)"
   ]
  }
 ],
 "metadata": {
  "kernelspec": {
   "display_name": "venv",
   "language": "python",
   "name": "python3"
  },
  "language_info": {
   "codemirror_mode": {
    "name": "ipython",
    "version": 3
   },
   "file_extension": ".py",
   "mimetype": "text/x-python",
   "name": "python",
   "nbconvert_exporter": "python",
   "pygments_lexer": "ipython3",
   "version": "3.10.7"
  },
  "orig_nbformat": 4,
  "vscode": {
   "interpreter": {
    "hash": "e3d10e4f3209e9130e369f5e6825c0759d54c4099f3ec99478d2f8b1e24ec40f"
   }
  }
 },
 "nbformat": 4,
 "nbformat_minor": 2
}
